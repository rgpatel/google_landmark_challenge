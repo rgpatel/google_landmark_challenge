{
 "cells": [
  {
   "cell_type": "markdown",
   "metadata": {},
   "source": [
    "# Capstone Project - Landmark Recognition\n",
    "\n",
    "Note: Although the Inception model was trained here, we have not included it in the final report as the aim was to only include top three models. Therefore, its accuracy is not shown here. However, it can be calculated in a similar manner.\n",
    "\n",
    "## Step 1: Import Bottleneck Features"
   ]
  },
  {
   "cell_type": "code",
   "execution_count": 2,
   "metadata": {},
   "outputs": [],
   "source": [
    "import numpy as np"
   ]
  },
  {
   "cell_type": "code",
   "execution_count": 3,
   "metadata": {},
   "outputs": [
    {
     "name": "stdout",
     "output_type": "stream",
     "text": [
      "VGG16 loaded\n",
      "VGG19 loaded\n",
      "Resnet loaded\n",
      "Inception loaded\n"
     ]
    }
   ],
   "source": [
    "train_VGG16 = np.load('Train.npz')['arr_0']\n",
    "valid_VGG16 = np.load('Valid.npz')['arr_0']\n",
    "test_VGG16 = np.load('Test.npz')['arr_0']\n",
    "\n",
    "print('VGG16 loaded')\n",
    "\n",
    "train_VGG19 = np.load('Train_vgg19.npz')['arr_0']\n",
    "valid_VGG19 = np.load('Valid_vgg19.npz')['arr_0']\n",
    "test_VGG19 = np.load('Test_vgg19.npz')['arr_0']\n",
    "\n",
    "print('VGG19 loaded')\n",
    "\n",
    "train_Resnet = np.load('Train_resnet.npz')['arr_0']\n",
    "valid_Resnet = np.load('Valid_resnet.npz')['arr_0']\n",
    "test_Resnet = np.load('Test_resnet.npz')['arr_0']\n",
    "\n",
    "print('Resnet loaded')\n",
    "\n",
    "train_inception = np.load('Train_inception.npz')['arr_0']\n",
    "valid_inception = np.load('Valid_inception.npz')['arr_0']\n",
    "test_inception = np.load('Test_inception.npz')['arr_0']\n",
    "\n",
    "print('Inception loaded')"
   ]
  },
  {
   "cell_type": "markdown",
   "metadata": {},
   "source": [
    "## Step 2: Model Architecture\n",
    "\n",
    "The model uses the the pre-trained model as a fixed feature extractor, where the last convolutional output is fed as input to our model.  We only add a global average pooling layer and a fully connected layer, where the latter contains one node for each category and is equipped with a softmax."
   ]
  },
  {
   "cell_type": "code",
   "execution_count": 4,
   "metadata": {},
   "outputs": [
    {
     "name": "stderr",
     "output_type": "stream",
     "text": [
      "C:\\Users\\guevarau\\AppData\\Local\\Continuum\\anaconda3\\lib\\site-packages\\h5py\\__init__.py:36: FutureWarning: Conversion of the second argument of issubdtype from `float` to `np.floating` is deprecated. In future, it will be treated as `np.float64 == np.dtype(float).type`.\n",
      "  from ._conv import register_converters as _register_converters\n",
      "Using TensorFlow backend.\n"
     ]
    },
    {
     "name": "stdout",
     "output_type": "stream",
     "text": [
      "_________________________________________________________________\n",
      "Layer (type)                 Output Shape              Param #   \n",
      "=================================================================\n",
      "global_average_pooling2d_1 ( (None, 512)               0         \n",
      "_________________________________________________________________\n",
      "dense_1 (Dense)              (None, 200)               102600    \n",
      "=================================================================\n",
      "Total params: 102,600\n",
      "Trainable params: 102,600\n",
      "Non-trainable params: 0\n",
      "_________________________________________________________________\n",
      "_________________________________________________________________\n",
      "Layer (type)                 Output Shape              Param #   \n",
      "=================================================================\n",
      "global_average_pooling2d_2 ( (None, 512)               0         \n",
      "_________________________________________________________________\n",
      "dense_2 (Dense)              (None, 200)               102600    \n",
      "=================================================================\n",
      "Total params: 102,600\n",
      "Trainable params: 102,600\n",
      "Non-trainable params: 0\n",
      "_________________________________________________________________\n",
      "_________________________________________________________________\n",
      "Layer (type)                 Output Shape              Param #   \n",
      "=================================================================\n",
      "global_average_pooling2d_3 ( (None, 2048)              0         \n",
      "_________________________________________________________________\n",
      "dense_3 (Dense)              (None, 200)               409800    \n",
      "=================================================================\n",
      "Total params: 409,800\n",
      "Trainable params: 409,800\n",
      "Non-trainable params: 0\n",
      "_________________________________________________________________\n",
      "_________________________________________________________________\n",
      "Layer (type)                 Output Shape              Param #   \n",
      "=================================================================\n",
      "global_average_pooling2d_4 ( (None, 2048)              0         \n",
      "_________________________________________________________________\n",
      "dense_4 (Dense)              (None, 200)               409800    \n",
      "=================================================================\n",
      "Total params: 409,800\n",
      "Trainable params: 409,800\n",
      "Non-trainable params: 0\n",
      "_________________________________________________________________\n"
     ]
    }
   ],
   "source": [
    "from keras.layers import Conv2D, MaxPooling2D, GlobalAveragePooling2D\n",
    "from keras.layers import Dropout, Flatten, Dense\n",
    "from keras.models import Sequential\n",
    "\n",
    "# VGG16 Model\n",
    "\n",
    "VGG16_model = Sequential()\n",
    "VGG16_model.add(GlobalAveragePooling2D(input_shape=train_VGG16.shape[1:]))\n",
    "VGG16_model.add(Dense(200, activation='softmax'))\n",
    "\n",
    "VGG16_model.summary()\n",
    "\n",
    "# VGG19 Model\n",
    "\n",
    "VGG19_model = Sequential()\n",
    "VGG19_model.add(GlobalAveragePooling2D(input_shape=train_VGG19.shape[1:]))\n",
    "VGG19_model.add(Dense(200, activation='softmax'))\n",
    "\n",
    "VGG19_model.summary()\n",
    "\n",
    "# Resenet Model\n",
    "\n",
    "resnet_model = Sequential()\n",
    "resnet_model.add(GlobalAveragePooling2D(input_shape=train_Resnet.shape[1:]))\n",
    "resnet_model.add(Dense(200, activation='softmax'))\n",
    "\n",
    "resnet_model.summary()\n",
    "\n",
    "# Inception Model\n",
    "\n",
    "inception_model = Sequential()\n",
    "inception_model.add(GlobalAveragePooling2D(input_shape=train_inception.shape[1:]))\n",
    "inception_model.add(Dense(200, activation='softmax'))\n",
    "\n",
    "inception_model.summary()"
   ]
  },
  {
   "cell_type": "markdown",
   "metadata": {},
   "source": [
    "## Step 3: Compile the Models"
   ]
  },
  {
   "cell_type": "code",
   "execution_count": 5,
   "metadata": {},
   "outputs": [],
   "source": [
    "VGG16_model.compile(loss='categorical_crossentropy', optimizer='rmsprop', metrics=['accuracy'])\n",
    "\n",
    "VGG19_model.compile(loss='categorical_crossentropy', optimizer='rmsprop', metrics=['accuracy'])\n",
    "\n",
    "resnet_model.compile(loss='categorical_crossentropy', optimizer='rmsprop', metrics=['accuracy'])\n",
    "\n",
    "inception_model.compile(loss='categorical_crossentropy', optimizer='rmsprop', metrics=['accuracy'])"
   ]
  },
  {
   "cell_type": "markdown",
   "metadata": {},
   "source": [
    "## Step 4: Process Data"
   ]
  },
  {
   "cell_type": "code",
   "execution_count": 8,
   "metadata": {},
   "outputs": [],
   "source": [
    "from keras.callbacks import ModelCheckpoint  \n",
    "from keras.utils import np_utils\n",
    "\n",
    "import pandas as pd\n",
    "train_targets = pd.read_csv('train_real.csv')['landmark_id']\n",
    "valid_targets = pd.read_csv('valid_real.csv')['landmark_id']\n",
    "test_targets = pd.read_csv('test_real.csv')['landmark_id']\n",
    "\n",
    "un = np.unique(train_targets)\n",
    "\n",
    "j=0\n",
    "for c,ii in enumerate(un):\n",
    "    train_targets = train_targets.replace(ii,j)\n",
    "    valid_targets = valid_targets.replace(ii,j)\n",
    "    test_targets = test_targets.replace(ii,j)\n",
    "    j = j + 1\n",
    "\n",
    "\n",
    "train_targets2 = np_utils.to_categorical(np.array(train_targets),200)\n",
    "valid_targets2 = np_utils.to_categorical(np.array(valid_targets),200)\n",
    "test_targets2 = np_utils.to_categorical(np.array(test_targets),200)"
   ]
  },
  {
   "cell_type": "markdown",
   "metadata": {},
   "source": [
    "## Step 5: Train the Models"
   ]
  },
  {
   "cell_type": "code",
   "execution_count": 38,
   "metadata": {
    "scrolled": false
   },
   "outputs": [
    {
     "name": "stdout",
     "output_type": "stream",
     "text": [
      "VGG16 trained\n",
      "VGG19 trained\n",
      "Resnet trained\n"
     ]
    }
   ],
   "source": [
    "checkpointer = ModelCheckpoint(filepath='weights.best.VGG16.hdf5', \n",
    "                               verbose=0, save_best_only=True)\n",
    "\n",
    "VGG16_model.fit(train_VGG16, train_targets2, \n",
    "          validation_data=(valid_VGG16, valid_targets2),\n",
    "          epochs=20, batch_size=20, callbacks=[checkpointer], verbose=0)\n",
    "\n",
    "print('VGG16 trained')\n",
    "\n",
    "checkpointer1 = ModelCheckpoint(filepath='weights.best.VGG19.hdf5', \n",
    "                               verbose=0, save_best_only=True)\n",
    "\n",
    "VGG19_model.fit(train_VGG19, train_targets2, \n",
    "          validation_data=(valid_VGG19, valid_targets2),\n",
    "          epochs=20, batch_size=20, callbacks=[checkpointer1], verbose=0)\n",
    "\n",
    "print('VGG19 trained')\n",
    "\n",
    "checkpointer2 = ModelCheckpoint(filepath='weights.best.resnet.hdf5', \n",
    "                               verbose=0, save_best_only=True)\n",
    "\n",
    "resnet_model.fit(train_Resnet, train_targets2, \n",
    "          validation_data=(valid_Resnet, valid_targets2),\n",
    "          epochs=20, batch_size=20, callbacks=[checkpointer2], verbose=0)\n",
    "\n",
    "print('Resnet trained')\n",
    "\n",
    "#checkpointer3 = ModelCheckpoint(filepath='weights.best.inception.hdf5', \n",
    "#                               verbose=0, save_best_only=True)\n",
    "\n",
    "#inception_model.fit(train_inception, train_targets2, \n",
    "#          validation_data=(valid_inception, valid_targets2),\n",
    "#          epochs=20, batch_size=20, callbacks=[checkpointer3], verbose=0)\n",
    "\n",
    "# print('Inception trained')\n"
   ]
  },
  {
   "cell_type": "markdown",
   "metadata": {},
   "source": [
    "## Step 6: Load the Model with the Best Validation Loss"
   ]
  },
  {
   "cell_type": "code",
   "execution_count": 39,
   "metadata": {},
   "outputs": [],
   "source": [
    "VGG16_model.load_weights('weights.best.VGG16.hdf5')\n",
    "\n",
    "VGG19_model.load_weights('weights.best.VGG19.hdf5')\n",
    "\n",
    "resnet_model.load_weights('weights.best.resnet.hdf5')\n",
    "\n",
    "#inception_model.load_weights('weights.best.inception.hdf5')\n"
   ]
  },
  {
   "cell_type": "markdown",
   "metadata": {},
   "source": [
    "## Step 7: Test the Model"
   ]
  },
  {
   "cell_type": "code",
   "execution_count": 40,
   "metadata": {
    "scrolled": true
   },
   "outputs": [
    {
     "name": "stdout",
     "output_type": "stream",
     "text": [
      "VGG16 Test accuracy: 88.8176%\n",
      "VGG19 Test accuracy: 89.6731%\n",
      "Resnet Test accuracy: 97.0364%\n"
     ]
    }
   ],
   "source": [
    "# VGG16\n",
    "\n",
    "VGG16_predictions = [np.argmax(VGG16_model.predict(np.expand_dims(feature, axis=0))) for feature in test_VGG16]\n",
    "\n",
    "test_accuracy = 100*np.sum(np.array(VGG16_predictions)==np.argmax(test_targets2, axis=1))/len(VGG16_predictions)\n",
    "print('VGG16 Test accuracy: %.4f%%' % test_accuracy)\n",
    "\n",
    "# VGG19\n",
    "\n",
    "VGG19_predictions = [np.argmax(VGG19_model.predict(np.expand_dims(feature, axis=0))) for feature in test_VGG19]\n",
    "\n",
    "test_accuracy = 100*np.sum(np.array(VGG19_predictions)==np.argmax(test_targets2, axis=1))/len(VGG19_predictions)\n",
    "print('VGG19 Test accuracy: %.4f%%' % test_accuracy)\n",
    "\n",
    "# Resnet\n",
    "\n",
    "resnet_predictions = [np.argmax(resnet_model.predict(np.expand_dims(feature, axis=0))) for feature in test_Resnet]\n",
    "\n",
    "test_accuracy = 100*np.sum(np.array(resnet_predictions)==np.argmax(test_targets2, axis=1))/len(resnet_predictions)\n",
    "print('Resnet Test accuracy: %.4f%%' % test_accuracy)\n",
    "\n",
    "# Inception\n",
    "\n",
    "#inception_predictions = [np.argmax(inception_model.predict(np.expand_dims(feature, axis=0))) for feature in test_inception]\n",
    "\n",
    "#test_accuracy = 100*np.sum(np.array(inception_predictions)==np.argmax(test_targets2, axis=1))/len(inception_predictions)\n",
    "#print('Inception Test accuracy: %.4f%%' % test_accuracy)\n"
   ]
  },
  {
   "cell_type": "code",
   "execution_count": 50,
   "metadata": {},
   "outputs": [
    {
     "data": {
      "image/png": "[encoded data removed]",
      "text/plain": [
       "<matplotlib.figure.Figure at 0x13a2cb22358>"
      ]
     },
     "metadata": {},
     "output_type": "display_data"
    }
   ],
   "source": [
    "data = {'VGG16':[82.3709, 82.432, 82.3709, 82.5848, 82.4931, 82.5542, 83.257, 86.5872, 88.6037, 88.8176], \n",
    "       'VGG19': [88.3288, 89.4898, 89.3064, 89.337, 89.3064, 89.3981, 89.5509, 89.5203, 89.5509, 89.6731],\n",
    "       'Resnet': [96.4253, 96.7919, 96.517, 96.7614, 96.9447, 96.7614, 97.0058, 97.0058, 97.0364, 97.0364]}\n",
    "\n",
    "import pandas as pd\n",
    "import matplotlib.pyplot as plt\n",
    "\n",
    "df = pd.DataFrame(data)\n",
    "ax = df.boxplot(column=['VGG16', 'VGG19', 'Resnet'], grid=False)\n",
    "ax.set_ylabel('Accuracy')\n",
    "\n",
    "plt.savefig('boxplot.png')"
   ]
  }
 ],
 "metadata": {
  "anaconda-cloud": {},
  "kernelspec": {
   "display_name": "Python 3",
   "language": "python",
   "name": "python3"
  },
  "language_info": {
   "codemirror_mode": {
    "name": "ipython",
    "version": 3
   },
   "file_extension": ".py",
   "mimetype": "text/x-python",
   "name": "python",
   "nbconvert_exporter": "python",
   "pygments_lexer": "ipython3",
   "version": "3.7.0"
  }
 },
 "nbformat": 4,
 "nbformat_minor": 1
}
